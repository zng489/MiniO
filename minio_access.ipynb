{
 "cells": [
  {
   "cell_type": "code",
   "execution_count": 49,
   "metadata": {},
   "outputs": [
    {
     "name": "stdout",
     "output_type": "stream",
     "text": [
      "bucket-name\n",
      "bucket-test\n"
     ]
    }
   ],
   "source": [
    "import pandas as pd\n",
    "import datetime\n",
    "import glob\n",
    "from minio import Minio\n",
    "from minio.error import S3Error\n",
    "#import matplotlib.pyplot as plt\n",
    "from dotenv import load_dotenv\n",
    "import os\n",
    "\n",
    "\n",
    "#!pip install python-dotenv\n",
    "# Load environment variables from the .env file\n",
    "load_dotenv()\n",
    "\n",
    "acess = os.getenv('MINIO_ACESS')\n",
    "key = os.getenv('MINIO_KEY')\n",
    "\n",
    "# print(acess)\n",
    "# print(key)\n",
    "\n",
    "\n",
    "client = Minio(\"localhost:9000\", \n",
    "               #access_key = \"root\",\n",
    "               access_key = acess, \n",
    "               #secret_key=\"password\",\n",
    "               secret_key = key, \n",
    "               secure=False)\n",
    "# secure=True)\n",
    "# TLS (Transport Layer Security) e SSL (Secure Sockets Layer) \n",
    "#dir(client)\n",
    "\n",
    "# #################################################################\n",
    "# client.list_buckets()\n",
    "# [Bucket('bucket-name'), Bucket('bucket-test')]\n",
    "# #################################################################\n",
    "\n",
    "buckets = client.list_buckets()\n",
    "for bucket in buckets:\n",
    "    # #################################################################\n",
    "    # print(bucket.name, bucket.creation_date)\n",
    "    # bucket-name 2023-10-28 19:59:11.006000+00:00\n",
    "    # #################################################################\n",
    "\n",
    "    # #################################################################\n",
    "    # print(bucket.name)\n",
    "    # bucket-name\n",
    "    # bucket-test\n",
    "    # #################################################################\n",
    "    print(bucket)"
   ]
  },
  {
   "cell_type": "code",
   "execution_count": 75,
   "metadata": {},
   "outputs": [
    {
     "name": "stdout",
     "output_type": "stream",
     "text": [
      "File 'raw/merge.csv' uploaded to bucket 'bucket-test' successfully.\n"
     ]
    }
   ],
   "source": [
    "from minio import Minio\n",
    "from minio.error import S3Error\n",
    "\n",
    "from dotenv import load_dotenv\n",
    "import os\n",
    "\n",
    "\n",
    "#!pip install python-dotenv\n",
    "# Load environment variables from the .env file\n",
    "load_dotenv()\n",
    "\n",
    "acess = os.getenv('MINIO_ACESS')\n",
    "key = os.getenv('MINIO_KEY')\n",
    "\n",
    "# print(acess)\n",
    "# print(key)\n",
    "\n",
    "\n",
    "minio_client = Minio(\"localhost:9000\", \n",
    "               #access_key = \"root\",\n",
    "               access_key = acess, \n",
    "               #secret_key=\"password\",\n",
    "               secret_key = key, \n",
    "               secure=False)\n",
    "\n",
    "# Specify the bucket name\n",
    "bucket_name = \"bucket-test\"\n",
    "\n",
    "# Specify the local file path and the desired object name in the bucket\n",
    "local_file_path = r\"C:\\Users\\PC\\Desktop\\Minio_DataLake\\merge.csv\"\n",
    "object_name = \"raw/merge.csv\"\n",
    "\n",
    "try:\n",
    "    # Upload the local file to the specified bucket and object name\n",
    "    with open(local_file_path, \"rb\") as file_data:\n",
    "        file_data.seek(0, 2)  # Move the cursor to the end of the file to get the length\n",
    "        length = file_data.tell()\n",
    "\n",
    "        # Move the cursor back to the beginning of the file before uploading\n",
    "        file_data.seek(0)\n",
    "\n",
    "        minio_client.put_object(\n",
    "            bucket_name,\n",
    "            object_name,\n",
    "            file_data,\n",
    "            length=length,\n",
    "        )\n",
    "\n",
    "    print(f\"File '{object_name}' uploaded to bucket '{bucket_name}' successfully.\")\n",
    "except S3Error as e:\n",
    "    print(f\"Error: {e}\")\n"
   ]
  },
  {
   "cell_type": "code",
   "execution_count": null,
   "metadata": {},
   "outputs": [],
   "source": [
    "from minio import Minio\n",
    "from minio.error import S3Error\n",
    "\n",
    "def upload_file_to_minio(minio_client, bucket_name, object_name, local_file_path):\n",
    "    try:\n",
    "        # Upload the local file to the specified bucket and object name\n",
    "        minio_client.fput_object(\n",
    "            bucket_name,\n",
    "            object_name,\n",
    "            local_file_path,\n",
    "        )\n",
    "        print(f\"File '{object_name}' uploaded to bucket '{bucket_name}' successfully.\")\n",
    "    except S3Error as e:\n",
    "        print(f\"Error: {e}\")\n",
    "\n",
    "# Initialize a MinIO client\n",
    "minio_client = Minio(\"localhost:9000\", \n",
    "               #access_key = \"root\",\n",
    "               access_key = acess, \n",
    "               #secret_key=\"password\",\n",
    "               secret_key = key, \n",
    "               secure=False)\n",
    "\n",
    "\n",
    "# Specify the name of the bucket to upload to\n",
    "bucket_name = \"bucket-test\"\n",
    "\n",
    "# Specify the local file path and the desired object name in the bucket\n",
    "object_name = \"raw/\"\n",
    "local_file_path = r\"C:\\Users\\PC\\Desktop\\Minio_DataLake\\merge.csv\"\n",
    "\n",
    "# Call the upload_file_to_minio function to upload the file\n",
    "upload_file_to_minio(minio_client, bucket_name, local_file_path, object_name)\n"
   ]
  },
  {
   "cell_type": "code",
   "execution_count": 16,
   "metadata": {},
   "outputs": [
    {
     "name": "stdout",
     "output_type": "stream",
     "text": [
      "<minio.datatypes.Object object at 0x000002703F170A00>\n"
     ]
    }
   ],
   "source": [
    "for item in client.list_objects('bucket-test',recursive=True):\n",
    "    print(item)"
   ]
  },
  {
   "cell_type": "code",
   "execution_count": 21,
   "metadata": {},
   "outputs": [
    {
     "name": "stdout",
     "output_type": "stream",
     "text": [
      "Munic_PE.xlsx\n"
     ]
    }
   ],
   "source": [
    "try:\n",
    "    # List objects in the bucket\n",
    "    objects = client.list_objects(\"bucket-test\")\n",
    "    \n",
    "    # Extract file names from the list of objects\n",
    "    file_names = [obj.object_name for obj in objects]\n",
    "\n",
    "    # Print the list of file names\n",
    "    for file_name in file_names:\n",
    "        print(file_name)\n",
    "\n",
    "except S3Error as e:\n",
    "    print(f\"Error: {e}\")"
   ]
  },
  {
   "cell_type": "code",
   "execution_count": null,
   "metadata": {},
   "outputs": [],
   "source": []
  },
  {
   "cell_type": "code",
   "execution_count": null,
   "metadata": {},
   "outputs": [],
   "source": []
  },
  {
   "cell_type": "code",
   "execution_count": 15,
   "metadata": {},
   "outputs": [
    {
     "ename": "AttributeError",
     "evalue": "'Object' object has no attribute 'name'",
     "output_type": "error",
     "traceback": [
      "\u001b[1;31m---------------------------------------------------------------------------\u001b[0m",
      "\u001b[1;31mAttributeError\u001b[0m                            Traceback (most recent call last)",
      "\u001b[1;32mc:\\Users\\PC\\Desktop\\Minio_DataLake\\minio_access.ipynb Cell 4\u001b[0m line \u001b[0;36m3\n\u001b[0;32m      <a href='vscode-notebook-cell:/c%3A/Users/PC/Desktop/Minio_DataLake/minio_access.ipynb#X11sZmlsZQ%3D%3D?line=0'>1</a>\u001b[0m \u001b[39mfor\u001b[39;00m bucket \u001b[39min\u001b[39;00m client\u001b[39m.\u001b[39mlist_buckets():\n\u001b[0;32m      <a href='vscode-notebook-cell:/c%3A/Users/PC/Desktop/Minio_DataLake/minio_access.ipynb#X11sZmlsZQ%3D%3D?line=1'>2</a>\u001b[0m     \u001b[39mfor\u001b[39;00m item \u001b[39min\u001b[39;00m client\u001b[39m.\u001b[39mlist_objects(bucket\u001b[39m.\u001b[39mname,recursive\u001b[39m=\u001b[39m\u001b[39mTrue\u001b[39;00m):\n\u001b[1;32m----> <a href='vscode-notebook-cell:/c%3A/Users/PC/Desktop/Minio_DataLake/minio_access.ipynb#X11sZmlsZQ%3D%3D?line=2'>3</a>\u001b[0m         \u001b[39mprint\u001b[39m(item\u001b[39m.\u001b[39;49mname)\n",
      "\u001b[1;31mAttributeError\u001b[0m: 'Object' object has no attribute 'name'"
     ]
    }
   ],
   "source": [
    "for bucket in client.list_buckets():\n",
    "    for item in client.list_objects(bucket.name,recursive=True):\n",
    "        print(item.name)\n",
    "        #client.fget_object(bucket.name,item.object_name,item.object_name)"
   ]
  },
  {
   "cell_type": "code",
   "execution_count": 27,
   "metadata": {},
   "outputs": [
    {
     "ename": "ValueError",
     "evalue": "Bucket name does not follow S3 standards. Bucket: silver/uf/",
     "output_type": "error",
     "traceback": [
      "\u001b[1;31m---------------------------------------------------------------------------\u001b[0m",
      "\u001b[1;31mValueError\u001b[0m                                Traceback (most recent call last)",
      "Cell \u001b[1;32mIn[27], line 3\u001b[0m\n\u001b[0;32m      1\u001b[0m \u001b[39m# List objects information recursively.\u001b[39;00m\n\u001b[0;32m      2\u001b[0m objects \u001b[39m=\u001b[39m client\u001b[39m.\u001b[39mlist_objects(\u001b[39m\"\u001b[39m\u001b[39msilver/uf/\u001b[39m\u001b[39m\"\u001b[39m)\n\u001b[1;32m----> 3\u001b[0m \u001b[39mfor\u001b[39;00m obj \u001b[39min\u001b[39;00m objects:\n\u001b[0;32m      4\u001b[0m     \u001b[39mprint\u001b[39m(obj\u001b[39m.\u001b[39mname)\n",
      "File \u001b[1;32mc:\\Users\\PC\\miniconda3\\envs\\myenv\\lib\\site-packages\\minio\\api.py:2781\u001b[0m, in \u001b[0;36mMinio._list_objects\u001b[1;34m(self, bucket_name, continuation_token, delimiter, encoding_type, fetch_owner, include_user_meta, max_keys, prefix, start_after, version_id_marker, use_api_v1, include_version)\u001b[0m\n\u001b[0;32m   2758\u001b[0m \u001b[39mdef\u001b[39;00m \u001b[39m_list_objects\u001b[39m(  \u001b[39m# pylint: disable=too-many-arguments,too-many-branches\u001b[39;00m\n\u001b[0;32m   2759\u001b[0m         \u001b[39mself\u001b[39m,\n\u001b[0;32m   2760\u001b[0m         bucket_name,\n\u001b[1;32m   (...)\u001b[0m\n\u001b[0;32m   2771\u001b[0m         include_version\u001b[39m=\u001b[39m\u001b[39mFalse\u001b[39;00m,\n\u001b[0;32m   2772\u001b[0m ):\n\u001b[0;32m   2773\u001b[0m \u001b[39m    \u001b[39m\u001b[39m\"\"\"\u001b[39;00m\n\u001b[0;32m   2774\u001b[0m \u001b[39m    List objects optionally including versions.\u001b[39;00m\n\u001b[0;32m   2775\u001b[0m \u001b[39m    Note: Its required to send empty values to delimiter/prefix and 1000 to\u001b[39;00m\n\u001b[1;32m   (...)\u001b[0m\n\u001b[0;32m   2778\u001b[0m \u001b[39m    policies.\u001b[39;00m\n\u001b[0;32m   2779\u001b[0m \u001b[39m    \"\"\"\u001b[39;00m\n\u001b[1;32m-> 2781\u001b[0m     check_bucket_name(bucket_name)\n\u001b[0;32m   2783\u001b[0m     \u001b[39mif\u001b[39;00m version_id_marker:\n\u001b[0;32m   2784\u001b[0m         include_version \u001b[39m=\u001b[39m \u001b[39mTrue\u001b[39;00m\n",
      "File \u001b[1;32mc:\\Users\\PC\\miniconda3\\envs\\myenv\\lib\\site-packages\\minio\\helpers.py:211\u001b[0m, in \u001b[0;36mcheck_bucket_name\u001b[1;34m(bucket_name, strict)\u001b[0m\n\u001b[0;32m    209\u001b[0m match \u001b[39m=\u001b[39m _VALID_BUCKETNAME_REGEX\u001b[39m.\u001b[39mmatch(bucket_name)\n\u001b[0;32m    210\u001b[0m \u001b[39mif\u001b[39;00m (\u001b[39mnot\u001b[39;00m match) \u001b[39mor\u001b[39;00m match\u001b[39m.\u001b[39mend() \u001b[39m!=\u001b[39m \u001b[39mlen\u001b[39m(bucket_name):\n\u001b[1;32m--> 211\u001b[0m     \u001b[39mraise\u001b[39;00m \u001b[39mValueError\u001b[39;00m(\n\u001b[0;32m    212\u001b[0m         \u001b[39mf\u001b[39m\u001b[39m\"\u001b[39m\u001b[39mBucket name does not follow S3 standards. Bucket: \u001b[39m\u001b[39m{\u001b[39;00mbucket_name\u001b[39m}\u001b[39;00m\u001b[39m\"\u001b[39m,\n\u001b[0;32m    213\u001b[0m     )\n",
      "\u001b[1;31mValueError\u001b[0m: Bucket name does not follow S3 standards. Bucket: silver/uf/"
     ]
    }
   ],
   "source": [
    "# List objects information recursively.\n",
    "objects = client.list_objects(\"silver/uf/\")\n",
    "for obj in objects:\n",
    "    print(obj.name)"
   ]
  },
  {
   "cell_type": "code",
   "execution_count": 22,
   "metadata": {},
   "outputs": [
    {
     "ename": "ValueError",
     "evalue": "Bucket name does not follow S3 standards. Bucket: silver/",
     "output_type": "error",
     "traceback": [
      "\u001b[1;31m---------------------------------------------------------------------------\u001b[0m",
      "\u001b[1;31mValueError\u001b[0m                                Traceback (most recent call last)",
      "Cell \u001b[1;32mIn[22], line 3\u001b[0m\n\u001b[0;32m      1\u001b[0m \u001b[39m# List objects information whose names starts with \"my/prefix/\".\u001b[39;00m\n\u001b[0;32m      2\u001b[0m objects \u001b[39m=\u001b[39m client\u001b[39m.\u001b[39mlist_objects(\u001b[39m\"\u001b[39m\u001b[39msilver/\u001b[39m\u001b[39m\"\u001b[39m, prefix\u001b[39m=\u001b[39m\u001b[39m\"\u001b[39m\u001b[39muf/\u001b[39m\u001b[39m\"\u001b[39m)\n\u001b[1;32m----> 3\u001b[0m \u001b[39mfor\u001b[39;00m obj \u001b[39min\u001b[39;00m objects:\n\u001b[0;32m      4\u001b[0m     \u001b[39mprint\u001b[39m(obj)\n",
      "File \u001b[1;32mc:\\Users\\PC\\miniconda3\\envs\\myenv\\lib\\site-packages\\minio\\api.py:2781\u001b[0m, in \u001b[0;36mMinio._list_objects\u001b[1;34m(self, bucket_name, continuation_token, delimiter, encoding_type, fetch_owner, include_user_meta, max_keys, prefix, start_after, version_id_marker, use_api_v1, include_version)\u001b[0m\n\u001b[0;32m   2758\u001b[0m \u001b[39mdef\u001b[39;00m \u001b[39m_list_objects\u001b[39m(  \u001b[39m# pylint: disable=too-many-arguments,too-many-branches\u001b[39;00m\n\u001b[0;32m   2759\u001b[0m         \u001b[39mself\u001b[39m,\n\u001b[0;32m   2760\u001b[0m         bucket_name,\n\u001b[1;32m   (...)\u001b[0m\n\u001b[0;32m   2771\u001b[0m         include_version\u001b[39m=\u001b[39m\u001b[39mFalse\u001b[39;00m,\n\u001b[0;32m   2772\u001b[0m ):\n\u001b[0;32m   2773\u001b[0m \u001b[39m    \u001b[39m\u001b[39m\"\"\"\u001b[39;00m\n\u001b[0;32m   2774\u001b[0m \u001b[39m    List objects optionally including versions.\u001b[39;00m\n\u001b[0;32m   2775\u001b[0m \u001b[39m    Note: Its required to send empty values to delimiter/prefix and 1000 to\u001b[39;00m\n\u001b[1;32m   (...)\u001b[0m\n\u001b[0;32m   2778\u001b[0m \u001b[39m    policies.\u001b[39;00m\n\u001b[0;32m   2779\u001b[0m \u001b[39m    \"\"\"\u001b[39;00m\n\u001b[1;32m-> 2781\u001b[0m     check_bucket_name(bucket_name)\n\u001b[0;32m   2783\u001b[0m     \u001b[39mif\u001b[39;00m version_id_marker:\n\u001b[0;32m   2784\u001b[0m         include_version \u001b[39m=\u001b[39m \u001b[39mTrue\u001b[39;00m\n",
      "File \u001b[1;32mc:\\Users\\PC\\miniconda3\\envs\\myenv\\lib\\site-packages\\minio\\helpers.py:211\u001b[0m, in \u001b[0;36mcheck_bucket_name\u001b[1;34m(bucket_name, strict)\u001b[0m\n\u001b[0;32m    209\u001b[0m match \u001b[39m=\u001b[39m _VALID_BUCKETNAME_REGEX\u001b[39m.\u001b[39mmatch(bucket_name)\n\u001b[0;32m    210\u001b[0m \u001b[39mif\u001b[39;00m (\u001b[39mnot\u001b[39;00m match) \u001b[39mor\u001b[39;00m match\u001b[39m.\u001b[39mend() \u001b[39m!=\u001b[39m \u001b[39mlen\u001b[39m(bucket_name):\n\u001b[1;32m--> 211\u001b[0m     \u001b[39mraise\u001b[39;00m \u001b[39mValueError\u001b[39;00m(\n\u001b[0;32m    212\u001b[0m         \u001b[39mf\u001b[39m\u001b[39m\"\u001b[39m\u001b[39mBucket name does not follow S3 standards. Bucket: \u001b[39m\u001b[39m{\u001b[39;00mbucket_name\u001b[39m}\u001b[39;00m\u001b[39m\"\u001b[39m,\n\u001b[0;32m    213\u001b[0m     )\n",
      "\u001b[1;31mValueError\u001b[0m: Bucket name does not follow S3 standards. Bucket: silver/"
     ]
    }
   ],
   "source": [
    "# List objects information whose names starts with \"my/prefix/\".\n",
    "objects = client.list_objects(\"silver/\", prefix=\"uf/\")\n",
    "for obj in objects:\n",
    "    print(obj)"
   ]
  },
  {
   "cell_type": "code",
   "execution_count": 19,
   "metadata": {},
   "outputs": [
    {
     "name": "stdout",
     "output_type": "stream",
     "text": [
      "<minio.datatypes.Object object at 0x000002703BEB4220>\n"
     ]
    }
   ],
   "source": [
    "objects = client.list_objects(\"bucket-test\")\n",
    "for obj in objects:\n",
    "    print(obj)"
   ]
  },
  {
   "cell_type": "code",
   "execution_count": 17,
   "metadata": {},
   "outputs": [
    {
     "data": {
      "text/plain": [
       "<generator object Minio._list_objects at 0x000002703F1A40B0>"
      ]
     },
     "execution_count": 17,
     "metadata": {},
     "output_type": "execute_result"
    }
   ],
   "source": [
    "client.list_objects('bucket-test/')"
   ]
  },
  {
   "cell_type": "code",
   "execution_count": null,
   "metadata": {},
   "outputs": [],
   "source": []
  }
 ],
 "metadata": {
  "kernelspec": {
   "display_name": "myenv",
   "language": "python",
   "name": "python3"
  },
  "language_info": {
   "codemirror_mode": {
    "name": "ipython",
    "version": 3
   },
   "file_extension": ".py",
   "mimetype": "text/x-python",
   "name": "python",
   "nbconvert_exporter": "python",
   "pygments_lexer": "ipython3",
   "version": "3.8.18"
  },
  "orig_nbformat": 4
 },
 "nbformat": 4,
 "nbformat_minor": 2
}
